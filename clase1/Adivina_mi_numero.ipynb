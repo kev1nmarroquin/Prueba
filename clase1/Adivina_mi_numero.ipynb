{
  "nbformat": 4,
  "nbformat_minor": 0,
  "metadata": {
    "colab": {
      "name": "Adivina mi numero.ipynb",
      "provenance": [],
      "collapsed_sections": [],
      "include_colab_link": true
    },
    "kernelspec": {
      "name": "python3",
      "display_name": "Python 3"
    },
    "language_info": {
      "name": "python"
    }
  },
  "cells": [
    {
      "cell_type": "markdown",
      "metadata": {
        "id": "view-in-github",
        "colab_type": "text"
      },
      "source": [
        "<a href=\"https://colab.research.google.com/github/kev1nmarroquin/Prueba/blob/main/clase1/Adivina_mi_numero.ipynb\" target=\"_parent\"><img src=\"https://colab.research.google.com/assets/colab-badge.svg\" alt=\"Open In Colab\"/></a>"
      ]
    },
    {
      "cell_type": "code",
      "execution_count": null,
      "metadata": {
        "id": "cKBYD797Fm1B",
        "outputId": "4f359346-cc5d-4419-dc0d-9441a0c4028d",
        "colab": {
          "base_uri": "https://localhost:8080/"
        }
      },
      "outputs": [
        {
          "output_type": "stream",
          "name": "stdout",
          "text": [
            "Adivina un numero del 0 al 100\n",
            "\n",
            "Escribe tu numero: 40\n",
            "Debes aumentar la apuesta\n",
            "Escribe tu numero: 70\n",
            "Debes disminuir la apuesta\n",
            "Escribe tu numero: 60\n",
            "Debes disminuir la apuesta\n",
            "Escribe tu numero: 55\n",
            "Debes aumentar la apuesta\n",
            "Escribe tu numero: 57\n",
            "Debes aumentar la apuesta\n",
            "Escribe tu numero: 58\n",
            "Debes aumentar la apuesta\n",
            "Escribe tu numero: 59\n",
            "Felicitaciones. Adivinaste  59\n",
            "Numero de intentos totales 7\n"
          ]
        }
      ],
      "source": [
        "from random import random\n",
        "x=int(100*random())\n",
        "print('Adivina un numero del 0 al 100\\n')\n",
        "ni= 1 #Variable contadora de numero de intentos\n",
        "# inicia declaración de control iterativo\n",
        "flag=True # =NO ADIVINÓ. Cuando <<buscamos>> algo podemo usar un flag\n",
        "\n",
        "while flag :\n",
        "  y=int(input('Escribe tu numero: '))\n",
        "  if x==y:\n",
        "    print('Felicitaciones. Adivinaste ',x)\n",
        "    print('Numero de intentos totales',ni)\n",
        "    flag=False\n",
        "    break\n",
        "\n",
        "  if x>y:\n",
        "    print('Debes aumentar la apuesta')\n",
        "    ni=ni+1\n",
        "  if x<y:\n",
        "    print('Debes disminuir la apuesta')\n",
        "    ni=ni+1"
      ]
    }
  ]
}